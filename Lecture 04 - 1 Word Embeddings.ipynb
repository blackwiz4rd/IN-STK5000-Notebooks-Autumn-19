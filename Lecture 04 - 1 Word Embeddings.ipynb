{
 "cells": [
  {
   "cell_type": "markdown",
   "metadata": {},
   "source": [
    "# Using premade word embeddings"
   ]
  },
  {
   "cell_type": "markdown",
   "metadata": {},
   "source": [
    "Download embeddings from (half way down page): https://code.google.com/archive/p/word2vec/"
   ]
  },
  {
   "cell_type": "code",
   "execution_count": 1,
   "metadata": {},
   "outputs": [],
   "source": [
    "# Import packages\n",
    "import os\n",
    "\n",
    "import gensim\n",
    "import nltk\n",
    "import pandas as pd\n",
    "\n",
    "\n",
    "import warnings\n",
    "warnings.filterwarnings('ignore')"
   ]
  },
  {
   "cell_type": "markdown",
   "metadata": {},
   "source": [
    "## Load pre-trained vectors from file"
   ]
  },
  {
   "cell_type": "code",
   "execution_count": 2,
   "metadata": {},
   "outputs": [],
   "source": [
    "# Data directory\n",
    "data_dir = \"/Users/clbi/Documents/conferences/UiO_NLP_Oct2019/data/\"\n",
    "\n",
    "# Load vectors \n",
    "gpath = os.path.join(data_dir, \"GoogleNews-vectors-negative300.bin\")\n",
    "google_w2v = gensim.models.KeyedVectors.load_word2vec_format(gpath,\n",
    "                                                             binary=True)"
   ]
  },
  {
   "cell_type": "markdown",
   "metadata": {},
   "source": [
    "## Basic word vector maths"
   ]
  },
  {
   "cell_type": "markdown",
   "metadata": {},
   "source": [
    "king - man + woman"
   ]
  },
  {
   "cell_type": "code",
   "execution_count": 3,
   "metadata": {},
   "outputs": [
    {
     "name": "stdout",
     "output_type": "stream",
     "text": [
      "('queen', 0.7118192911148071)\n"
     ]
    }
   ],
   "source": [
    "print (google_w2v.most_similar(positive=[\"king\",\"woman\"], negative = [\"man\"])[0])"
   ]
  },
  {
   "cell_type": "markdown",
   "metadata": {},
   "source": [
    "A more useful example: \n",
    "    capital of Scotland?"
   ]
  },
  {
   "cell_type": "code",
   "execution_count": 4,
   "metadata": {},
   "outputs": [
    {
     "name": "stdout",
     "output_type": "stream",
     "text": [
      "('Edinburgh', 0.7040923833847046)\n"
     ]
    }
   ],
   "source": [
    "print (google_w2v.most_similar(positive=[\"Oslo\",\"Scotland\"], negative = [\"Norway\"])[0])"
   ]
  },
  {
   "cell_type": "markdown",
   "metadata": {},
   "source": [
    "# Custom word embeddings"
   ]
  },
  {
   "cell_type": "markdown",
   "metadata": {},
   "source": [
    "<img src=\"corpi.png\" alt=\"alt text\" width=\"1000\"/>"
   ]
  },
  {
   "cell_type": "code",
   "execution_count": 5,
   "metadata": {},
   "outputs": [],
   "source": [
    "text_filepath = os.path.join(data_dir, \"tmp.txt\")"
   ]
  },
  {
   "cell_type": "code",
   "execution_count": 6,
   "metadata": {},
   "outputs": [],
   "source": [
    "# Read in text line by line\n",
    "with open(text_filepath) as f:\n",
    "    content = f.readlines()\n",
    "    \n",
    "# remove whitespace characters like `\\n` at the end of each line\n",
    "content = [x.strip() for x in content] "
   ]
  },
  {
   "cell_type": "code",
   "execution_count": 7,
   "metadata": {},
   "outputs": [
    {
     "data": {
      "text/plain": [
       "['You’re about to spend several hours of your life reading about Git. Let’s take a minute to explain',\n",
       " 'what we have in store for you. Here is a quick summary of the ten chapters and three appendices of',\n",
       " 'this book.',\n",
       " 'In Chapter 1, we’re going to cover Version Control Systems (VCSs) and Git basics — no technical',\n",
       " 'stuff, just what Git is, why it came about in a land full of VCSs, what sets it apart, and why so many']"
      ]
     },
     "execution_count": 7,
     "metadata": {},
     "output_type": "execute_result"
    }
   ],
   "source": [
    "# take a quick look at what has been read in\n",
    "content[:5]"
   ]
  },
  {
   "cell_type": "code",
   "execution_count": 8,
   "metadata": {},
   "outputs": [
    {
     "data": {
      "text/plain": [
       "14745"
      ]
     },
     "execution_count": 8,
     "metadata": {},
     "output_type": "execute_result"
    }
   ],
   "source": [
    "# check how many lines\n",
    "len(content)"
   ]
  },
  {
   "cell_type": "markdown",
   "metadata": {},
   "source": [
    "### The input for training the model requires a list of tokenised sentences "
   ]
  },
  {
   "cell_type": "code",
   "execution_count": 9,
   "metadata": {},
   "outputs": [],
   "source": [
    "# Join lines together so it becomes one long line\n",
    "text = \" \".join(content)\n",
    "\n",
    "# Separate out the sentences \n",
    "sentences = nltk.sent_tokenize(text)\n",
    "\n",
    "# Seperate out each word within each sentence\n",
    "tokenised_sents = [nltk.word_tokenize(sent.lower()) for sent in sentences]"
   ]
  },
  {
   "cell_type": "markdown",
   "metadata": {},
   "source": [
    "### Check how large our vocabulary is"
   ]
  },
  {
   "cell_type": "code",
   "execution_count": 10,
   "metadata": {},
   "outputs": [
    {
     "name": "stdout",
     "output_type": "stream",
     "text": [
      "169587\n",
      "9103\n"
     ]
    }
   ],
   "source": [
    "total_tokens = [t for sent in tokenised_sents for t in sent]\n",
    "\n",
    "print (len(total_tokens))\n",
    "print (len(set(total_tokens)))"
   ]
  },
  {
   "cell_type": "code",
   "execution_count": 11,
   "metadata": {},
   "outputs": [
    {
     "name": "stdout",
     "output_type": "stream",
     "text": [
      "You’re about to spend several hours of your life reading about Git.\n",
      "['you', '’', 're', 'about', 'to', 'spend', 'several', 'hours', 'of', 'your', 'life', 'reading', 'about', 'git', '.']\n"
     ]
    }
   ],
   "source": [
    "print (sentences[0])\n",
    "print (tokenised_sents[0])"
   ]
  },
  {
   "cell_type": "markdown",
   "metadata": {},
   "source": [
    "### Skipgram model creation from the tokenised sentences"
   ]
  },
  {
   "cell_type": "code",
   "execution_count": 12,
   "metadata": {},
   "outputs": [
    {
     "data": {
      "text/plain": [
       "(29377357, 42396750)"
      ]
     },
     "execution_count": 12,
     "metadata": {},
     "output_type": "execute_result"
    }
   ],
   "source": [
    "# Skip-gram model\n",
    "git_sg = gensim.models.Word2Vec(tokenised_sents, sg=1, min_count=2, window=5, size=300)\n",
    "git_sg.train(tokenised_sents, total_examples=len(tokenised_sents), epochs=250)"
   ]
  },
  {
   "cell_type": "markdown",
   "metadata": {},
   "source": [
    "### Continuous Bag of Words model creation from the tokenised sentences"
   ]
  },
  {
   "cell_type": "code",
   "execution_count": 13,
   "metadata": {},
   "outputs": [
    {
     "data": {
      "text/plain": [
       "(29375361, 42396750)"
      ]
     },
     "execution_count": 13,
     "metadata": {},
     "output_type": "execute_result"
    }
   ],
   "source": [
    "# CBoW model\n",
    "git_cbow = gensim.models.Word2Vec(tokenised_sents, sg=0, min_count=2, window=5, size=300)\n",
    "git_cbow.train(tokenised_sents, total_examples=len(tokenised_sents), epochs=250)"
   ]
  },
  {
   "cell_type": "markdown",
   "metadata": {},
   "source": [
    "## Comparing the two models and the pretrained embeddings"
   ]
  },
  {
   "cell_type": "code",
   "execution_count": 14,
   "metadata": {},
   "outputs": [],
   "source": [
    "def comparing_embeddings(word, g_emb, sg_emb, cbow_emb):\n",
    "    g    = pd.DataFrame(g_emb.most_similar(positive=[word])[:5],columns=[\"g_name\",\"g_score\"])\n",
    "    sg   = pd.DataFrame(sg_emb.most_similar(positive=[word])[:5],columns=[\"sg_name\",\"sg_score\"])\n",
    "    cbow = pd.DataFrame(cbow_emb.most_similar(positive=[word])[:5],columns=[\"cbow_name\",\"cbow_score\"])\n",
    "    \n",
    "    df = pd.concat([g, sg, cbow],axis = 1)\n",
    "    display (df)"
   ]
  },
  {
   "cell_type": "code",
   "execution_count": 15,
   "metadata": {},
   "outputs": [
    {
     "data": {
      "text/html": [
       "<div>\n",
       "<style scoped>\n",
       "    .dataframe tbody tr th:only-of-type {\n",
       "        vertical-align: middle;\n",
       "    }\n",
       "\n",
       "    .dataframe tbody tr th {\n",
       "        vertical-align: top;\n",
       "    }\n",
       "\n",
       "    .dataframe thead th {\n",
       "        text-align: right;\n",
       "    }\n",
       "</style>\n",
       "<table border=\"1\" class=\"dataframe\">\n",
       "  <thead>\n",
       "    <tr style=\"text-align: right;\">\n",
       "      <th></th>\n",
       "      <th>g_name</th>\n",
       "      <th>g_score</th>\n",
       "      <th>sg_name</th>\n",
       "      <th>sg_score</th>\n",
       "      <th>cbow_name</th>\n",
       "      <th>cbow_score</th>\n",
       "    </tr>\n",
       "  </thead>\n",
       "  <tbody>\n",
       "    <tr>\n",
       "      <th>0</th>\n",
       "      <td>issues</td>\n",
       "      <td>0.707202</td>\n",
       "      <td>53</td>\n",
       "      <td>0.437099</td>\n",
       "      <td>bug</td>\n",
       "      <td>0.339078</td>\n",
       "    </tr>\n",
       "    <tr>\n",
       "      <th>1</th>\n",
       "      <td>thorny_issue</td>\n",
       "      <td>0.598144</td>\n",
       "      <td>ticket</td>\n",
       "      <td>0.321185</td>\n",
       "      <td>num</td>\n",
       "      <td>0.289421</td>\n",
       "    </tr>\n",
       "    <tr>\n",
       "      <th>2</th>\n",
       "      <td>problem</td>\n",
       "      <td>0.564546</td>\n",
       "      <td>iss91v2</td>\n",
       "      <td>0.308129</td>\n",
       "      <td>comments</td>\n",
       "      <td>0.287643</td>\n",
       "    </tr>\n",
       "    <tr>\n",
       "      <th>3</th>\n",
       "      <td>isssue</td>\n",
       "      <td>0.561899</td>\n",
       "      <td>concentrate</td>\n",
       "      <td>0.295148</td>\n",
       "      <td>avatar</td>\n",
       "      <td>0.286650</td>\n",
       "    </tr>\n",
       "    <tr>\n",
       "      <th>4</th>\n",
       "      <td>topic</td>\n",
       "      <td>0.552595</td>\n",
       "      <td>usability</td>\n",
       "      <td>0.290826</td>\n",
       "      <td>platform</td>\n",
       "      <td>0.286470</td>\n",
       "    </tr>\n",
       "  </tbody>\n",
       "</table>\n",
       "</div>"
      ],
      "text/plain": [
       "         g_name   g_score      sg_name  sg_score cbow_name  cbow_score\n",
       "0        issues  0.707202           53  0.437099       bug    0.339078\n",
       "1  thorny_issue  0.598144       ticket  0.321185       num    0.289421\n",
       "2       problem  0.564546      iss91v2  0.308129  comments    0.287643\n",
       "3        isssue  0.561899  concentrate  0.295148    avatar    0.286650\n",
       "4         topic  0.552595    usability  0.290826  platform    0.286470"
      ]
     },
     "metadata": {},
     "output_type": "display_data"
    }
   ],
   "source": [
    "word = 'issue' \n",
    "\n",
    "comparing_embeddings(word, google_w2v, git_sg, git_cbow)"
   ]
  },
  {
   "cell_type": "code",
   "execution_count": 16,
   "metadata": {},
   "outputs": [
    {
     "data": {
      "text/html": [
       "<div>\n",
       "<style scoped>\n",
       "    .dataframe tbody tr th:only-of-type {\n",
       "        vertical-align: middle;\n",
       "    }\n",
       "\n",
       "    .dataframe tbody tr th {\n",
       "        vertical-align: top;\n",
       "    }\n",
       "\n",
       "    .dataframe thead th {\n",
       "        text-align: right;\n",
       "    }\n",
       "</style>\n",
       "<table border=\"1\" class=\"dataframe\">\n",
       "  <thead>\n",
       "    <tr style=\"text-align: right;\">\n",
       "      <th></th>\n",
       "      <th>g_name</th>\n",
       "      <th>g_score</th>\n",
       "      <th>sg_name</th>\n",
       "      <th>sg_score</th>\n",
       "      <th>cbow_name</th>\n",
       "      <th>cbow_score</th>\n",
       "    </tr>\n",
       "  </thead>\n",
       "  <tbody>\n",
       "    <tr>\n",
       "      <th>0</th>\n",
       "      <td>branches</td>\n",
       "      <td>0.774664</td>\n",
       "      <td>master</td>\n",
       "      <td>0.395214</td>\n",
       "      <td>branches</td>\n",
       "      <td>0.405472</td>\n",
       "    </tr>\n",
       "    <tr>\n",
       "      <th>1</th>\n",
       "      <td>Branches</td>\n",
       "      <td>0.580219</td>\n",
       "      <td>9fd905e</td>\n",
       "      <td>0.332735</td>\n",
       "      <td>master</td>\n",
       "      <td>0.393785</td>\n",
       "    </tr>\n",
       "    <tr>\n",
       "      <th>2</th>\n",
       "      <td>braches</td>\n",
       "      <td>0.556314</td>\n",
       "      <td>branches</td>\n",
       "      <td>0.330581</td>\n",
       "      <td>work</td>\n",
       "      <td>0.356721</td>\n",
       "    </tr>\n",
       "    <tr>\n",
       "      <th>3</th>\n",
       "      <td>offices</td>\n",
       "      <td>0.547974</td>\n",
       "      <td>sf</td>\n",
       "      <td>0.329037</td>\n",
       "      <td>merge</td>\n",
       "      <td>0.354294</td>\n",
       "    </tr>\n",
       "    <tr>\n",
       "      <th>4</th>\n",
       "      <td>bank</td>\n",
       "      <td>0.543090</td>\n",
       "      <td>'origin/master</td>\n",
       "      <td>0.324644</td>\n",
       "      <td>repository</td>\n",
       "      <td>0.335536</td>\n",
       "    </tr>\n",
       "  </tbody>\n",
       "</table>\n",
       "</div>"
      ],
      "text/plain": [
       "     g_name   g_score         sg_name  sg_score   cbow_name  cbow_score\n",
       "0  branches  0.774664          master  0.395214    branches    0.405472\n",
       "1  Branches  0.580219         9fd905e  0.332735      master    0.393785\n",
       "2   braches  0.556314        branches  0.330581        work    0.356721\n",
       "3   offices  0.547974              sf  0.329037       merge    0.354294\n",
       "4      bank  0.543090  'origin/master  0.324644  repository    0.335536"
      ]
     },
     "metadata": {},
     "output_type": "display_data"
    }
   ],
   "source": [
    "comparing_embeddings(\"branch\", google_w2v, git_sg, git_cbow)"
   ]
  },
  {
   "cell_type": "code",
   "execution_count": 17,
   "metadata": {},
   "outputs": [
    {
     "data": {
      "text/html": [
       "<div>\n",
       "<style scoped>\n",
       "    .dataframe tbody tr th:only-of-type {\n",
       "        vertical-align: middle;\n",
       "    }\n",
       "\n",
       "    .dataframe tbody tr th {\n",
       "        vertical-align: top;\n",
       "    }\n",
       "\n",
       "    .dataframe thead th {\n",
       "        text-align: right;\n",
       "    }\n",
       "</style>\n",
       "<table border=\"1\" class=\"dataframe\">\n",
       "  <thead>\n",
       "    <tr style=\"text-align: right;\">\n",
       "      <th></th>\n",
       "      <th>g_name</th>\n",
       "      <th>g_score</th>\n",
       "      <th>sg_name</th>\n",
       "      <th>sg_score</th>\n",
       "      <th>cbow_name</th>\n",
       "      <th>cbow_score</th>\n",
       "    </tr>\n",
       "  </thead>\n",
       "  <tbody>\n",
       "    <tr>\n",
       "      <th>0</th>\n",
       "      <td>repositories</td>\n",
       "      <td>0.768756</td>\n",
       "      <td>copy</td>\n",
       "      <td>0.294594</td>\n",
       "      <td>project</td>\n",
       "      <td>0.462332</td>\n",
       "    </tr>\n",
       "    <tr>\n",
       "      <th>1</th>\n",
       "      <td>searchable_repository</td>\n",
       "      <td>0.628594</td>\n",
       "      <td>my_project</td>\n",
       "      <td>0.285671</td>\n",
       "      <td>attach</td>\n",
       "      <td>0.353240</td>\n",
       "    </tr>\n",
       "    <tr>\n",
       "      <th>2</th>\n",
       "      <td>centralized_repository</td>\n",
       "      <td>0.625289</td>\n",
       "      <td>clone</td>\n",
       "      <td>0.283222</td>\n",
       "      <td>branch</td>\n",
       "      <td>0.335536</td>\n",
       "    </tr>\n",
       "    <tr>\n",
       "      <th>3</th>\n",
       "      <td>database</td>\n",
       "      <td>0.603871</td>\n",
       "      <td>133</td>\n",
       "      <td>0.273846</td>\n",
       "      <td>server</td>\n",
       "      <td>0.315999</td>\n",
       "    </tr>\n",
       "    <tr>\n",
       "      <th>4</th>\n",
       "      <td>metadata_repository</td>\n",
       "      <td>0.557632</td>\n",
       "      <td>initialize</td>\n",
       "      <td>0.263398</td>\n",
       "      <td>directory</td>\n",
       "      <td>0.310902</td>\n",
       "    </tr>\n",
       "  </tbody>\n",
       "</table>\n",
       "</div>"
      ],
      "text/plain": [
       "                   g_name   g_score     sg_name  sg_score  cbow_name  \\\n",
       "0            repositories  0.768756        copy  0.294594    project   \n",
       "1   searchable_repository  0.628594  my_project  0.285671     attach   \n",
       "2  centralized_repository  0.625289       clone  0.283222     branch   \n",
       "3                database  0.603871         133  0.273846     server   \n",
       "4     metadata_repository  0.557632  initialize  0.263398  directory   \n",
       "\n",
       "   cbow_score  \n",
       "0    0.462332  \n",
       "1    0.353240  \n",
       "2    0.335536  \n",
       "3    0.315999  \n",
       "4    0.310902  "
      ]
     },
     "metadata": {},
     "output_type": "display_data"
    }
   ],
   "source": [
    "comparing_embeddings(\"repository\", google_w2v, git_sg, git_cbow)"
   ]
  },
  {
   "cell_type": "code",
   "execution_count": 18,
   "metadata": {},
   "outputs": [
    {
     "data": {
      "text/html": [
       "<div>\n",
       "<style scoped>\n",
       "    .dataframe tbody tr th:only-of-type {\n",
       "        vertical-align: middle;\n",
       "    }\n",
       "\n",
       "    .dataframe tbody tr th {\n",
       "        vertical-align: top;\n",
       "    }\n",
       "\n",
       "    .dataframe thead th {\n",
       "        text-align: right;\n",
       "    }\n",
       "</style>\n",
       "<table border=\"1\" class=\"dataframe\">\n",
       "  <thead>\n",
       "    <tr style=\"text-align: right;\">\n",
       "      <th></th>\n",
       "      <th>g_name</th>\n",
       "      <th>g_score</th>\n",
       "      <th>sg_name</th>\n",
       "      <th>sg_score</th>\n",
       "      <th>cbow_name</th>\n",
       "      <th>cbow_score</th>\n",
       "    </tr>\n",
       "  </thead>\n",
       "  <tbody>\n",
       "    <tr>\n",
       "      <th>0</th>\n",
       "      <td>masters</td>\n",
       "      <td>0.631445</td>\n",
       "      <td>branch</td>\n",
       "      <td>0.395214</td>\n",
       "      <td>origin/master</td>\n",
       "      <td>0.425256</td>\n",
       "    </tr>\n",
       "    <tr>\n",
       "      <th>1</th>\n",
       "      <td>Rolodex_Khuzami</td>\n",
       "      <td>0.571832</td>\n",
       "      <td>'origin/master</td>\n",
       "      <td>0.371425</td>\n",
       "      <td>branch</td>\n",
       "      <td>0.393785</td>\n",
       "    </tr>\n",
       "    <tr>\n",
       "      <th>2</th>\n",
       "      <td>Master</td>\n",
       "      <td>0.569733</td>\n",
       "      <td>slower-blink</td>\n",
       "      <td>0.368018</td>\n",
       "      <td>fetch_head</td>\n",
       "      <td>0.387405</td>\n",
       "    </tr>\n",
       "    <tr>\n",
       "      <th>3</th>\n",
       "      <td>suspense_Alfred_Hitchcock</td>\n",
       "      <td>0.563138</td>\n",
       "      <td>.git/objects/pack/pack-e80e</td>\n",
       "      <td>0.360461</td>\n",
       "      <td>iss53</td>\n",
       "      <td>0.380540</td>\n",
       "    </tr>\n",
       "    <tr>\n",
       "      <th>4</th>\n",
       "      <td>Gary_Golkiewicz_chief</td>\n",
       "      <td>0.537977</td>\n",
       "      <td>fbff5bc</td>\n",
       "      <td>0.359547</td>\n",
       "      <td>serverfix</td>\n",
       "      <td>0.377777</td>\n",
       "    </tr>\n",
       "  </tbody>\n",
       "</table>\n",
       "</div>"
      ],
      "text/plain": [
       "                      g_name   g_score                      sg_name  sg_score  \\\n",
       "0                    masters  0.631445                       branch  0.395214   \n",
       "1            Rolodex_Khuzami  0.571832               'origin/master  0.371425   \n",
       "2                     Master  0.569733                 slower-blink  0.368018   \n",
       "3  suspense_Alfred_Hitchcock  0.563138  .git/objects/pack/pack-e80e  0.360461   \n",
       "4      Gary_Golkiewicz_chief  0.537977                      fbff5bc  0.359547   \n",
       "\n",
       "       cbow_name  cbow_score  \n",
       "0  origin/master    0.425256  \n",
       "1         branch    0.393785  \n",
       "2     fetch_head    0.387405  \n",
       "3          iss53    0.380540  \n",
       "4      serverfix    0.377777  "
      ]
     },
     "metadata": {},
     "output_type": "display_data"
    }
   ],
   "source": [
    "comparing_embeddings(\"master\", google_w2v, git_sg, git_cbow)"
   ]
  },
  {
   "cell_type": "code",
   "execution_count": 19,
   "metadata": {},
   "outputs": [
    {
     "data": {
      "text/html": [
       "<div>\n",
       "<style scoped>\n",
       "    .dataframe tbody tr th:only-of-type {\n",
       "        vertical-align: middle;\n",
       "    }\n",
       "\n",
       "    .dataframe tbody tr th {\n",
       "        vertical-align: top;\n",
       "    }\n",
       "\n",
       "    .dataframe thead th {\n",
       "        text-align: right;\n",
       "    }\n",
       "</style>\n",
       "<table border=\"1\" class=\"dataframe\">\n",
       "  <thead>\n",
       "    <tr style=\"text-align: right;\">\n",
       "      <th></th>\n",
       "      <th>g_name</th>\n",
       "      <th>g_score</th>\n",
       "      <th>sg_name</th>\n",
       "      <th>sg_score</th>\n",
       "      <th>cbow_name</th>\n",
       "      <th>cbow_score</th>\n",
       "    </tr>\n",
       "  </thead>\n",
       "  <tbody>\n",
       "    <tr>\n",
       "      <th>0</th>\n",
       "      <td>rerate</td>\n",
       "      <td>0.521535</td>\n",
       "      <td>rewinding</td>\n",
       "      <td>0.398970</td>\n",
       "      <td>amend</td>\n",
       "      <td>0.321743</td>\n",
       "    </tr>\n",
       "    <tr>\n",
       "      <th>1</th>\n",
       "      <td>rebasing</td>\n",
       "      <td>0.507490</td>\n",
       "      <td>cherry-pick</td>\n",
       "      <td>0.385342</td>\n",
       "      <td>rewinding</td>\n",
       "      <td>0.307802</td>\n",
       "    </tr>\n",
       "    <tr>\n",
       "      <th>2</th>\n",
       "      <td>Cizdyn</td>\n",
       "      <td>0.470737</td>\n",
       "      <td>force-pushed</td>\n",
       "      <td>0.381862</td>\n",
       "      <td>cherry-pick</td>\n",
       "      <td>0.280399</td>\n",
       "    </tr>\n",
       "    <tr>\n",
       "      <th>3</th>\n",
       "      <td>mediumterm</td>\n",
       "      <td>0.470616</td>\n",
       "      <td>rebases</td>\n",
       "      <td>0.361529</td>\n",
       "      <td>filter-branch</td>\n",
       "      <td>0.276505</td>\n",
       "    </tr>\n",
       "    <tr>\n",
       "      <th>4</th>\n",
       "      <td>longerterm</td>\n",
       "      <td>0.462676</td>\n",
       "      <td>work..</td>\n",
       "      <td>0.357625</td>\n",
       "      <td>-i</td>\n",
       "      <td>0.273116</td>\n",
       "    </tr>\n",
       "  </tbody>\n",
       "</table>\n",
       "</div>"
      ],
      "text/plain": [
       "       g_name   g_score       sg_name  sg_score      cbow_name  cbow_score\n",
       "0      rerate  0.521535     rewinding  0.398970          amend    0.321743\n",
       "1    rebasing  0.507490   cherry-pick  0.385342      rewinding    0.307802\n",
       "2      Cizdyn  0.470737  force-pushed  0.381862    cherry-pick    0.280399\n",
       "3  mediumterm  0.470616       rebases  0.361529  filter-branch    0.276505\n",
       "4  longerterm  0.462676        work..  0.357625             -i    0.273116"
      ]
     },
     "metadata": {},
     "output_type": "display_data"
    }
   ],
   "source": [
    "comparing_embeddings(\"rebase\", google_w2v, git_sg, git_cbow)"
   ]
  },
  {
   "cell_type": "code",
   "execution_count": 23,
   "metadata": {},
   "outputs": [
    {
     "data": {
      "text/html": [
       "<div>\n",
       "<style scoped>\n",
       "    .dataframe tbody tr th:only-of-type {\n",
       "        vertical-align: middle;\n",
       "    }\n",
       "\n",
       "    .dataframe tbody tr th {\n",
       "        vertical-align: top;\n",
       "    }\n",
       "\n",
       "    .dataframe thead th {\n",
       "        text-align: right;\n",
       "    }\n",
       "</style>\n",
       "<table border=\"1\" class=\"dataframe\">\n",
       "  <thead>\n",
       "    <tr style=\"text-align: right;\">\n",
       "      <th></th>\n",
       "      <th>g_name</th>\n",
       "      <th>g_score</th>\n",
       "      <th>sg_name</th>\n",
       "      <th>sg_score</th>\n",
       "      <th>cbow_name</th>\n",
       "      <th>cbow_score</th>\n",
       "    </tr>\n",
       "  </thead>\n",
       "  <tbody>\n",
       "    <tr>\n",
       "      <th>0</th>\n",
       "      <td>Owner</td>\n",
       "      <td>0.758827</td>\n",
       "      <td>contributor</td>\n",
       "      <td>0.400518</td>\n",
       "      <td>33</td>\n",
       "      <td>0.358958</td>\n",
       "    </tr>\n",
       "    <tr>\n",
       "      <th>1</th>\n",
       "      <td>proprietor</td>\n",
       "      <td>0.704992</td>\n",
       "      <td>closes</td>\n",
       "      <td>0.381352</td>\n",
       "      <td>clicking</td>\n",
       "      <td>0.348276</td>\n",
       "    </tr>\n",
       "    <tr>\n",
       "      <th>2</th>\n",
       "      <td>owners</td>\n",
       "      <td>0.687797</td>\n",
       "      <td>commenting</td>\n",
       "      <td>0.377992</td>\n",
       "      <td>group</td>\n",
       "      <td>0.329170</td>\n",
       "    </tr>\n",
       "    <tr>\n",
       "      <th>3</th>\n",
       "      <td>coowner</td>\n",
       "      <td>0.625816</td>\n",
       "      <td>suggested</td>\n",
       "      <td>0.377306</td>\n",
       "      <td>members</td>\n",
       "      <td>0.318980</td>\n",
       "    </tr>\n",
       "    <tr>\n",
       "      <th>4</th>\n",
       "      <td>owns</td>\n",
       "      <td>0.545936</td>\n",
       "      <td>thread</td>\n",
       "      <td>0.364047</td>\n",
       "      <td>results</td>\n",
       "      <td>0.315952</td>\n",
       "    </tr>\n",
       "  </tbody>\n",
       "</table>\n",
       "</div>"
      ],
      "text/plain": [
       "       g_name   g_score      sg_name  sg_score cbow_name  cbow_score\n",
       "0       Owner  0.758827  contributor  0.400518        33    0.358958\n",
       "1  proprietor  0.704992       closes  0.381352  clicking    0.348276\n",
       "2      owners  0.687797   commenting  0.377992     group    0.329170\n",
       "3     coowner  0.625816    suggested  0.377306   members    0.318980\n",
       "4        owns  0.545936       thread  0.364047   results    0.315952"
      ]
     },
     "metadata": {},
     "output_type": "display_data"
    }
   ],
   "source": [
    "comparing_embeddings(\"owner\", google_w2v, git_sg, git_cbow)"
   ]
  },
  {
   "cell_type": "code",
   "execution_count": null,
   "metadata": {},
   "outputs": [],
   "source": []
  }
 ],
 "metadata": {
  "kernelspec": {
   "display_name": "Python 3",
   "language": "python",
   "name": "python3"
  },
  "language_info": {
   "codemirror_mode": {
    "name": "ipython",
    "version": 3
   },
   "file_extension": ".py",
   "mimetype": "text/x-python",
   "name": "python",
   "nbconvert_exporter": "python",
   "pygments_lexer": "ipython3",
   "version": "3.6.8"
  }
 },
 "nbformat": 4,
 "nbformat_minor": 2
}
