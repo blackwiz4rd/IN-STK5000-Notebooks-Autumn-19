{
 "cells": [
  {
   "cell_type": "code",
   "execution_count": 1,
   "metadata": {},
   "outputs": [],
   "source": [
    "import pandas\n",
    "import numpy"
   ]
  },
  {
   "cell_type": "code",
   "execution_count": 2,
   "metadata": {},
   "outputs": [],
   "source": [
    "%matplotlib inline"
   ]
  },
  {
   "cell_type": "code",
   "execution_count": 3,
   "metadata": {},
   "outputs": [],
   "source": [
    "series = pandas.Series(numpy.random.standard_normal(10))"
   ]
  },
  {
   "cell_type": "code",
   "execution_count": 4,
   "metadata": {},
   "outputs": [
    {
     "data": {
      "text/plain": [
       "0    2.586600\n",
       "1    0.096167\n",
       "2    0.123857\n",
       "3    0.876825\n",
       "4   -2.271017\n",
       "5    0.013493\n",
       "6   -2.025954\n",
       "7    1.082862\n",
       "8    1.074559\n",
       "9    0.741260\n",
       "dtype: float64"
      ]
     },
     "execution_count": 4,
     "metadata": {},
     "output_type": "execute_result"
    }
   ],
   "source": [
    "series"
   ]
  },
  {
   "cell_type": "code",
   "execution_count": 5,
   "metadata": {},
   "outputs": [
    {
     "data": {
      "text/plain": [
       "0    3.586600\n",
       "1    1.096167\n",
       "2    1.123857\n",
       "3    1.876825\n",
       "4   -1.271017\n",
       "5    1.013493\n",
       "6   -1.025954\n",
       "7    2.082862\n",
       "8    2.074559\n",
       "9    1.741260\n",
       "dtype: float64"
      ]
     },
     "execution_count": 5,
     "metadata": {},
     "output_type": "execute_result"
    }
   ],
   "source": [
    "series + 1 # DO"
   ]
  },
  {
   "cell_type": "code",
   "execution_count": 6,
   "metadata": {},
   "outputs": [
    {
     "data": {
      "text/plain": [
       "[3.5865995987947157,\n",
       " 1.0961673999400379,\n",
       " 1.1238566527114986,\n",
       " 1.8768253138424817,\n",
       " -1.2710168994384632,\n",
       " 1.013493112111678,\n",
       " -1.0259535631955208,\n",
       " 2.08286218290256,\n",
       " 2.0745591700487216,\n",
       " 1.7412596804713334]"
      ]
     },
     "execution_count": 6,
     "metadata": {},
     "output_type": "execute_result"
    }
   ],
   "source": [
    "[i + 1 for i in series] # DONT"
   ]
  },
  {
   "cell_type": "code",
   "execution_count": 7,
   "metadata": {},
   "outputs": [
    {
     "data": {
      "text/plain": [
       "1    0.096167\n",
       "2    0.123857\n",
       "3    0.876825\n",
       "4   -2.271017\n",
       "dtype: float64"
      ]
     },
     "execution_count": 7,
     "metadata": {},
     "output_type": "execute_result"
    }
   ],
   "source": [
    "series[1:5]"
   ]
  },
  {
   "cell_type": "code",
   "execution_count": 8,
   "metadata": {},
   "outputs": [
    {
     "data": {
      "text/plain": [
       "1    0.096167\n",
       "3    0.876825\n",
       "5    0.013493\n",
       "7    1.082862\n",
       "9    0.741260\n",
       "dtype: float64"
      ]
     },
     "execution_count": 8,
     "metadata": {},
     "output_type": "execute_result"
    }
   ],
   "source": [
    "series[1::2]"
   ]
  },
  {
   "cell_type": "code",
   "execution_count": 9,
   "metadata": {},
   "outputs": [
    {
     "data": {
      "text/plain": [
       "RangeIndex(start=0, stop=10, step=1)"
      ]
     },
     "execution_count": 9,
     "metadata": {},
     "output_type": "execute_result"
    }
   ],
   "source": [
    "series.index"
   ]
  },
  {
   "cell_type": "code",
   "execution_count": 10,
   "metadata": {},
   "outputs": [],
   "source": [
    "series.index = list('abcdefghij')"
   ]
  },
  {
   "cell_type": "code",
   "execution_count": 11,
   "metadata": {},
   "outputs": [
    {
     "data": {
      "text/plain": [
       "a    2.586600\n",
       "b    0.096167\n",
       "c    0.123857\n",
       "d    0.876825\n",
       "e   -2.271017\n",
       "f    0.013493\n",
       "g   -2.025954\n",
       "h    1.082862\n",
       "i    1.074559\n",
       "j    0.741260\n",
       "dtype: float64"
      ]
     },
     "execution_count": 11,
     "metadata": {},
     "output_type": "execute_result"
    }
   ],
   "source": [
    "series"
   ]
  },
  {
   "cell_type": "code",
   "execution_count": 12,
   "metadata": {},
   "outputs": [
    {
     "data": {
      "text/plain": [
       "2.5865995987947157"
      ]
     },
     "execution_count": 12,
     "metadata": {},
     "output_type": "execute_result"
    }
   ],
   "source": [
    "series['a']"
   ]
  },
  {
   "cell_type": "code",
   "execution_count": 13,
   "metadata": {},
   "outputs": [
    {
     "data": {
      "text/plain": [
       "a    2.586600\n",
       "b    0.096167\n",
       "c    0.123857\n",
       "d    0.876825\n",
       "e   -2.271017\n",
       "f    0.013493\n",
       "dtype: float64"
      ]
     },
     "execution_count": 13,
     "metadata": {},
     "output_type": "execute_result"
    }
   ],
   "source": [
    "series['a':'f']"
   ]
  },
  {
   "cell_type": "code",
   "execution_count": 14,
   "metadata": {},
   "outputs": [],
   "source": [
    "another_series = pandas.Series([1,2,3], index=['a', 'd', 'i'])"
   ]
  },
  {
   "cell_type": "code",
   "execution_count": 15,
   "metadata": {},
   "outputs": [
    {
     "data": {
      "text/plain": [
       "a    1\n",
       "d    2\n",
       "i    3\n",
       "dtype: int64"
      ]
     },
     "execution_count": 15,
     "metadata": {},
     "output_type": "execute_result"
    }
   ],
   "source": [
    "another_series"
   ]
  },
  {
   "cell_type": "code",
   "execution_count": 17,
   "metadata": {},
   "outputs": [
    {
     "data": {
      "text/plain": [
       "a    5.173199\n",
       "b    0.192335\n",
       "c    0.247713\n",
       "d    1.753651\n",
       "e   -4.542034\n",
       "f    0.026986\n",
       "g   -4.051907\n",
       "h    2.165724\n",
       "i    2.149118\n",
       "j    1.482519\n",
       "dtype: float64"
      ]
     },
     "execution_count": 17,
     "metadata": {},
     "output_type": "execute_result"
    }
   ],
   "source": [
    "series + series"
   ]
  },
  {
   "cell_type": "code",
   "execution_count": 18,
   "metadata": {},
   "outputs": [
    {
     "data": {
      "text/plain": [
       "a    3.586600\n",
       "b         NaN\n",
       "c         NaN\n",
       "d    2.876825\n",
       "e         NaN\n",
       "f         NaN\n",
       "g         NaN\n",
       "h         NaN\n",
       "i    4.074559\n",
       "j         NaN\n",
       "dtype: float64"
      ]
     },
     "execution_count": 18,
     "metadata": {},
     "output_type": "execute_result"
    }
   ],
   "source": [
    "series + another_series"
   ]
  },
  {
   "cell_type": "code",
   "execution_count": 19,
   "metadata": {},
   "outputs": [
    {
     "data": {
      "text/plain": [
       "a    3.586600\n",
       "d    2.876825\n",
       "i    4.074559\n",
       "dtype: float64"
      ]
     },
     "execution_count": 19,
     "metadata": {},
     "output_type": "execute_result"
    }
   ],
   "source": [
    "(series + another_series).dropna()"
   ]
  },
  {
   "cell_type": "code",
   "execution_count": 20,
   "metadata": {},
   "outputs": [
    {
     "data": {
      "text/plain": [
       "a    3.586600\n",
       "b    0.000000\n",
       "c    0.000000\n",
       "d    2.876825\n",
       "e    0.000000\n",
       "f    0.000000\n",
       "g    0.000000\n",
       "h    0.000000\n",
       "i    4.074559\n",
       "j    0.000000\n",
       "dtype: float64"
      ]
     },
     "execution_count": 20,
     "metadata": {},
     "output_type": "execute_result"
    }
   ],
   "source": [
    "(series + another_series).fillna(0)"
   ]
  },
  {
   "cell_type": "code",
   "execution_count": 21,
   "metadata": {},
   "outputs": [],
   "source": [
    "result = series + another_series"
   ]
  },
  {
   "cell_type": "code",
   "execution_count": 22,
   "metadata": {},
   "outputs": [
    {
     "data": {
      "text/plain": [
       "a    False\n",
       "b     True\n",
       "c     True\n",
       "d    False\n",
       "e     True\n",
       "f     True\n",
       "g     True\n",
       "h     True\n",
       "i    False\n",
       "j     True\n",
       "dtype: bool"
      ]
     },
     "execution_count": 22,
     "metadata": {},
     "output_type": "execute_result"
    }
   ],
   "source": [
    "result.isna()"
   ]
  },
  {
   "cell_type": "code",
   "execution_count": 23,
   "metadata": {},
   "outputs": [
    {
     "data": {
      "text/plain": [
       "b    0.096167\n",
       "c    0.123857\n",
       "e   -2.271017\n",
       "f    0.013493\n",
       "g   -2.025954\n",
       "h    1.082862\n",
       "j    0.741260\n",
       "dtype: float64"
      ]
     },
     "execution_count": 23,
     "metadata": {},
     "output_type": "execute_result"
    }
   ],
   "source": [
    "series[result.isna()]"
   ]
  },
  {
   "cell_type": "code",
   "execution_count": 24,
   "metadata": {},
   "outputs": [],
   "source": [
    "result[result.isna()] = series[result.isna()]"
   ]
  },
  {
   "cell_type": "code",
   "execution_count": 25,
   "metadata": {},
   "outputs": [
    {
     "data": {
      "text/plain": [
       "a    3.586600\n",
       "b    0.096167\n",
       "c    0.123857\n",
       "d    2.876825\n",
       "e   -2.271017\n",
       "f    0.013493\n",
       "g   -2.025954\n",
       "h    1.082862\n",
       "i    4.074559\n",
       "j    0.741260\n",
       "dtype: float64"
      ]
     },
     "execution_count": 25,
     "metadata": {},
     "output_type": "execute_result"
    }
   ],
   "source": [
    "result"
   ]
  },
  {
   "cell_type": "markdown",
   "metadata": {},
   "source": [
    "# Data Frames"
   ]
  },
  {
   "cell_type": "code",
   "execution_count": 34,
   "metadata": {},
   "outputs": [],
   "source": [
    "fish = pandas.DataFrame({'size': [100, 120, 70],\n",
    "                         'weight': [20, 30., 25]},\n",
    "                         index= ['Brown Trout', 'Atlantic Salmon', 'Chinook Salmon'])"
   ]
  },
  {
   "cell_type": "code",
   "execution_count": 35,
   "metadata": {},
   "outputs": [
    {
     "data": {
      "text/html": [
       "<div>\n",
       "<style scoped>\n",
       "    .dataframe tbody tr th:only-of-type {\n",
       "        vertical-align: middle;\n",
       "    }\n",
       "\n",
       "    .dataframe tbody tr th {\n",
       "        vertical-align: top;\n",
       "    }\n",
       "\n",
       "    .dataframe thead th {\n",
       "        text-align: right;\n",
       "    }\n",
       "</style>\n",
       "<table border=\"1\" class=\"dataframe\">\n",
       "  <thead>\n",
       "    <tr style=\"text-align: right;\">\n",
       "      <th></th>\n",
       "      <th>size</th>\n",
       "      <th>weight</th>\n",
       "    </tr>\n",
       "  </thead>\n",
       "  <tbody>\n",
       "    <tr>\n",
       "      <th>Brown Trout</th>\n",
       "      <td>100</td>\n",
       "      <td>20.0</td>\n",
       "    </tr>\n",
       "    <tr>\n",
       "      <th>Atlantic Salmon</th>\n",
       "      <td>120</td>\n",
       "      <td>30.0</td>\n",
       "    </tr>\n",
       "    <tr>\n",
       "      <th>Chinook Salmon</th>\n",
       "      <td>70</td>\n",
       "      <td>25.0</td>\n",
       "    </tr>\n",
       "  </tbody>\n",
       "</table>\n",
       "</div>"
      ],
      "text/plain": [
       "                 size  weight\n",
       "Brown Trout       100    20.0\n",
       "Atlantic Salmon   120    30.0\n",
       "Chinook Salmon     70    25.0"
      ]
     },
     "execution_count": 35,
     "metadata": {},
     "output_type": "execute_result"
    }
   ],
   "source": [
    "fish"
   ]
  },
  {
   "cell_type": "code",
   "execution_count": 36,
   "metadata": {},
   "outputs": [
    {
     "data": {
      "text/plain": [
       "Brown Trout        20.0\n",
       "Atlantic Salmon    30.0\n",
       "Chinook Salmon     25.0\n",
       "Name: weight, dtype: float64"
      ]
     },
     "execution_count": 36,
     "metadata": {},
     "output_type": "execute_result"
    }
   ],
   "source": [
    "fish.weight"
   ]
  },
  {
   "cell_type": "code",
   "execution_count": 37,
   "metadata": {},
   "outputs": [
    {
     "data": {
      "text/plain": [
       "6"
      ]
     },
     "execution_count": 37,
     "metadata": {},
     "output_type": "execute_result"
    }
   ],
   "source": [
    "fish.size"
   ]
  },
  {
   "cell_type": "code",
   "execution_count": 38,
   "metadata": {},
   "outputs": [
    {
     "data": {
      "text/plain": [
       "Brown Trout        20.0\n",
       "Atlantic Salmon    30.0\n",
       "Chinook Salmon     25.0\n",
       "Name: weight, dtype: float64"
      ]
     },
     "execution_count": 38,
     "metadata": {},
     "output_type": "execute_result"
    }
   ],
   "source": [
    "fish['weight']"
   ]
  },
  {
   "cell_type": "code",
   "execution_count": 39,
   "metadata": {},
   "outputs": [
    {
     "data": {
      "text/plain": [
       "Brown Trout        100\n",
       "Atlantic Salmon    120\n",
       "Chinook Salmon      70\n",
       "Name: size, dtype: int64"
      ]
     },
     "execution_count": 39,
     "metadata": {},
     "output_type": "execute_result"
    }
   ],
   "source": [
    "fish['size']"
   ]
  },
  {
   "cell_type": "code",
   "execution_count": 40,
   "metadata": {},
   "outputs": [
    {
     "data": {
      "text/plain": [
       "Brown Trout        26.0\n",
       "Atlantic Salmon    36.0\n",
       "Chinook Salmon     31.0\n",
       "Name: weight, dtype: float64"
      ]
     },
     "execution_count": 40,
     "metadata": {},
     "output_type": "execute_result"
    }
   ],
   "source": [
    "fish.weight + fish.size"
   ]
  },
  {
   "cell_type": "code",
   "execution_count": 41,
   "metadata": {},
   "outputs": [
    {
     "data": {
      "text/plain": [
       "Brown Trout        120.0\n",
       "Atlantic Salmon    150.0\n",
       "Chinook Salmon      95.0\n",
       "dtype: float64"
      ]
     },
     "execution_count": 41,
     "metadata": {},
     "output_type": "execute_result"
    }
   ],
   "source": [
    "fish['weight'] + fish['size']"
   ]
  },
  {
   "cell_type": "code",
   "execution_count": 42,
   "metadata": {},
   "outputs": [
    {
     "data": {
      "text/plain": [
       "Brown Trout        False\n",
       "Atlantic Salmon     True\n",
       "Chinook Salmon     False\n",
       "Name: size, dtype: bool"
      ]
     },
     "execution_count": 42,
     "metadata": {},
     "output_type": "execute_result"
    }
   ],
   "source": [
    "fish['size'] > 100"
   ]
  },
  {
   "cell_type": "code",
   "execution_count": 43,
   "metadata": {},
   "outputs": [
    {
     "data": {
      "text/html": [
       "<div>\n",
       "<style scoped>\n",
       "    .dataframe tbody tr th:only-of-type {\n",
       "        vertical-align: middle;\n",
       "    }\n",
       "\n",
       "    .dataframe tbody tr th {\n",
       "        vertical-align: top;\n",
       "    }\n",
       "\n",
       "    .dataframe thead th {\n",
       "        text-align: right;\n",
       "    }\n",
       "</style>\n",
       "<table border=\"1\" class=\"dataframe\">\n",
       "  <thead>\n",
       "    <tr style=\"text-align: right;\">\n",
       "      <th></th>\n",
       "      <th>size</th>\n",
       "      <th>weight</th>\n",
       "    </tr>\n",
       "  </thead>\n",
       "  <tbody>\n",
       "    <tr>\n",
       "      <th>Atlantic Salmon</th>\n",
       "      <td>120</td>\n",
       "      <td>30.0</td>\n",
       "    </tr>\n",
       "  </tbody>\n",
       "</table>\n",
       "</div>"
      ],
      "text/plain": [
       "                 size  weight\n",
       "Atlantic Salmon   120    30.0"
      ]
     },
     "execution_count": 43,
     "metadata": {},
     "output_type": "execute_result"
    }
   ],
   "source": [
    "fish[fish['size'] > 100]"
   ]
  },
  {
   "cell_type": "markdown",
   "metadata": {},
   "source": [
    "# Reading Data"
   ]
  },
  {
   "cell_type": "code",
   "execution_count": 46,
   "metadata": {},
   "outputs": [],
   "source": [
    "trips = pandas.read_csv('201508_trip_data.csv.gz')"
   ]
  },
  {
   "cell_type": "code",
   "execution_count": 48,
   "metadata": {},
   "outputs": [
    {
     "data": {
      "text/html": [
       "<div>\n",
       "<style scoped>\n",
       "    .dataframe tbody tr th:only-of-type {\n",
       "        vertical-align: middle;\n",
       "    }\n",
       "\n",
       "    .dataframe tbody tr th {\n",
       "        vertical-align: top;\n",
       "    }\n",
       "\n",
       "    .dataframe thead th {\n",
       "        text-align: right;\n",
       "    }\n",
       "</style>\n",
       "<table border=\"1\" class=\"dataframe\">\n",
       "  <thead>\n",
       "    <tr style=\"text-align: right;\">\n",
       "      <th></th>\n",
       "      <th>Trip ID</th>\n",
       "      <th>Duration</th>\n",
       "      <th>Start Date</th>\n",
       "      <th>Start Station</th>\n",
       "      <th>Start Terminal</th>\n",
       "      <th>End Date</th>\n",
       "      <th>End Station</th>\n",
       "      <th>End Terminal</th>\n",
       "      <th>Bike #</th>\n",
       "      <th>Subscriber Type</th>\n",
       "      <th>Zip Code</th>\n",
       "    </tr>\n",
       "  </thead>\n",
       "  <tbody>\n",
       "    <tr>\n",
       "      <th>0</th>\n",
       "      <td>913460</td>\n",
       "      <td>765</td>\n",
       "      <td>8/31/2015 23:26</td>\n",
       "      <td>Harry Bridges Plaza (Ferry Building)</td>\n",
       "      <td>50</td>\n",
       "      <td>8/31/2015 23:39</td>\n",
       "      <td>San Francisco Caltrain (Townsend at 4th)</td>\n",
       "      <td>70</td>\n",
       "      <td>288</td>\n",
       "      <td>Subscriber</td>\n",
       "      <td>2139</td>\n",
       "    </tr>\n",
       "    <tr>\n",
       "      <th>1</th>\n",
       "      <td>913459</td>\n",
       "      <td>1036</td>\n",
       "      <td>8/31/2015 23:11</td>\n",
       "      <td>San Antonio Shopping Center</td>\n",
       "      <td>31</td>\n",
       "      <td>8/31/2015 23:28</td>\n",
       "      <td>Mountain View City Hall</td>\n",
       "      <td>27</td>\n",
       "      <td>35</td>\n",
       "      <td>Subscriber</td>\n",
       "      <td>95032</td>\n",
       "    </tr>\n",
       "    <tr>\n",
       "      <th>2</th>\n",
       "      <td>913455</td>\n",
       "      <td>307</td>\n",
       "      <td>8/31/2015 23:13</td>\n",
       "      <td>Post at Kearny</td>\n",
       "      <td>47</td>\n",
       "      <td>8/31/2015 23:18</td>\n",
       "      <td>2nd at South Park</td>\n",
       "      <td>64</td>\n",
       "      <td>468</td>\n",
       "      <td>Subscriber</td>\n",
       "      <td>94107</td>\n",
       "    </tr>\n",
       "    <tr>\n",
       "      <th>3</th>\n",
       "      <td>913454</td>\n",
       "      <td>409</td>\n",
       "      <td>8/31/2015 23:10</td>\n",
       "      <td>San Jose City Hall</td>\n",
       "      <td>10</td>\n",
       "      <td>8/31/2015 23:17</td>\n",
       "      <td>San Salvador at 1st</td>\n",
       "      <td>8</td>\n",
       "      <td>68</td>\n",
       "      <td>Subscriber</td>\n",
       "      <td>95113</td>\n",
       "    </tr>\n",
       "    <tr>\n",
       "      <th>4</th>\n",
       "      <td>913453</td>\n",
       "      <td>789</td>\n",
       "      <td>8/31/2015 23:09</td>\n",
       "      <td>Embarcadero at Folsom</td>\n",
       "      <td>51</td>\n",
       "      <td>8/31/2015 23:22</td>\n",
       "      <td>Embarcadero at Sansome</td>\n",
       "      <td>60</td>\n",
       "      <td>487</td>\n",
       "      <td>Customer</td>\n",
       "      <td>9069</td>\n",
       "    </tr>\n",
       "  </tbody>\n",
       "</table>\n",
       "</div>"
      ],
      "text/plain": [
       "   Trip ID  Duration       Start Date                         Start Station  \\\n",
       "0   913460       765  8/31/2015 23:26  Harry Bridges Plaza (Ferry Building)   \n",
       "1   913459      1036  8/31/2015 23:11           San Antonio Shopping Center   \n",
       "2   913455       307  8/31/2015 23:13                        Post at Kearny   \n",
       "3   913454       409  8/31/2015 23:10                    San Jose City Hall   \n",
       "4   913453       789  8/31/2015 23:09                 Embarcadero at Folsom   \n",
       "\n",
       "   Start Terminal         End Date                               End Station  \\\n",
       "0              50  8/31/2015 23:39  San Francisco Caltrain (Townsend at 4th)   \n",
       "1              31  8/31/2015 23:28                   Mountain View City Hall   \n",
       "2              47  8/31/2015 23:18                         2nd at South Park   \n",
       "3              10  8/31/2015 23:17                       San Salvador at 1st   \n",
       "4              51  8/31/2015 23:22                    Embarcadero at Sansome   \n",
       "\n",
       "   End Terminal  Bike # Subscriber Type Zip Code  \n",
       "0            70     288      Subscriber     2139  \n",
       "1            27      35      Subscriber    95032  \n",
       "2            64     468      Subscriber    94107  \n",
       "3             8      68      Subscriber    95113  \n",
       "4            60     487        Customer     9069  "
      ]
     },
     "execution_count": 48,
     "metadata": {},
     "output_type": "execute_result"
    }
   ],
   "source": [
    "trips.head()"
   ]
  },
  {
   "cell_type": "code",
   "execution_count": 47,
   "metadata": {},
   "outputs": [
    {
     "name": "stdout",
     "output_type": "stream",
     "text": [
      "<class 'pandas.core.frame.DataFrame'>\n",
      "RangeIndex: 354152 entries, 0 to 354151\n",
      "Data columns (total 11 columns):\n",
      "Trip ID            354152 non-null int64\n",
      "Duration           354152 non-null int64\n",
      "Start Date         354152 non-null object\n",
      "Start Station      354152 non-null object\n",
      "Start Terminal     354152 non-null int64\n",
      "End Date           354152 non-null object\n",
      "End Station        354152 non-null object\n",
      "End Terminal       354152 non-null int64\n",
      "Bike #             354152 non-null int64\n",
      "Subscriber Type    354152 non-null object\n",
      "Zip Code           353874 non-null object\n",
      "dtypes: int64(5), object(6)\n",
      "memory usage: 29.7+ MB\n"
     ]
    }
   ],
   "source": [
    "trips.info()"
   ]
  },
  {
   "cell_type": "code",
   "execution_count": 49,
   "metadata": {},
   "outputs": [
    {
     "data": {
      "text/html": [
       "<div>\n",
       "<style scoped>\n",
       "    .dataframe tbody tr th:only-of-type {\n",
       "        vertical-align: middle;\n",
       "    }\n",
       "\n",
       "    .dataframe tbody tr th {\n",
       "        vertical-align: top;\n",
       "    }\n",
       "\n",
       "    .dataframe thead th {\n",
       "        text-align: right;\n",
       "    }\n",
       "</style>\n",
       "<table border=\"1\" class=\"dataframe\">\n",
       "  <thead>\n",
       "    <tr style=\"text-align: right;\">\n",
       "      <th></th>\n",
       "      <th>Trip ID</th>\n",
       "      <th>Duration</th>\n",
       "      <th>Start Terminal</th>\n",
       "      <th>End Terminal</th>\n",
       "      <th>Bike #</th>\n",
       "    </tr>\n",
       "  </thead>\n",
       "  <tbody>\n",
       "    <tr>\n",
       "      <th>count</th>\n",
       "      <td>354152.000000</td>\n",
       "      <td>3.541520e+05</td>\n",
       "      <td>354152.000000</td>\n",
       "      <td>354152.000000</td>\n",
       "      <td>354152.000000</td>\n",
       "    </tr>\n",
       "    <tr>\n",
       "      <th>mean</th>\n",
       "      <td>676962.274416</td>\n",
       "      <td>1.046033e+03</td>\n",
       "      <td>58.446018</td>\n",
       "      <td>58.421816</td>\n",
       "      <td>422.957911</td>\n",
       "    </tr>\n",
       "    <tr>\n",
       "      <th>std</th>\n",
       "      <td>138874.153513</td>\n",
       "      <td>3.001694e+04</td>\n",
       "      <td>16.738860</td>\n",
       "      <td>16.876792</td>\n",
       "      <td>159.841550</td>\n",
       "    </tr>\n",
       "    <tr>\n",
       "      <th>min</th>\n",
       "      <td>432947.000000</td>\n",
       "      <td>6.000000e+01</td>\n",
       "      <td>2.000000</td>\n",
       "      <td>2.000000</td>\n",
       "      <td>9.000000</td>\n",
       "    </tr>\n",
       "    <tr>\n",
       "      <th>25%</th>\n",
       "      <td>557009.750000</td>\n",
       "      <td>3.420000e+02</td>\n",
       "      <td>50.000000</td>\n",
       "      <td>50.000000</td>\n",
       "      <td>327.000000</td>\n",
       "    </tr>\n",
       "    <tr>\n",
       "      <th>50%</th>\n",
       "      <td>679451.500000</td>\n",
       "      <td>5.110000e+02</td>\n",
       "      <td>62.000000</td>\n",
       "      <td>63.000000</td>\n",
       "      <td>437.000000</td>\n",
       "    </tr>\n",
       "    <tr>\n",
       "      <th>75%</th>\n",
       "      <td>798026.250000</td>\n",
       "      <td>7.390000e+02</td>\n",
       "      <td>70.000000</td>\n",
       "      <td>70.000000</td>\n",
       "      <td>546.000000</td>\n",
       "    </tr>\n",
       "    <tr>\n",
       "      <th>max</th>\n",
       "      <td>913460.000000</td>\n",
       "      <td>1.727040e+07</td>\n",
       "      <td>84.000000</td>\n",
       "      <td>84.000000</td>\n",
       "      <td>878.000000</td>\n",
       "    </tr>\n",
       "  </tbody>\n",
       "</table>\n",
       "</div>"
      ],
      "text/plain": [
       "             Trip ID      Duration  Start Terminal   End Terminal  \\\n",
       "count  354152.000000  3.541520e+05   354152.000000  354152.000000   \n",
       "mean   676962.274416  1.046033e+03       58.446018      58.421816   \n",
       "std    138874.153513  3.001694e+04       16.738860      16.876792   \n",
       "min    432947.000000  6.000000e+01        2.000000       2.000000   \n",
       "25%    557009.750000  3.420000e+02       50.000000      50.000000   \n",
       "50%    679451.500000  5.110000e+02       62.000000      63.000000   \n",
       "75%    798026.250000  7.390000e+02       70.000000      70.000000   \n",
       "max    913460.000000  1.727040e+07       84.000000      84.000000   \n",
       "\n",
       "              Bike #  \n",
       "count  354152.000000  \n",
       "mean      422.957911  \n",
       "std       159.841550  \n",
       "min         9.000000  \n",
       "25%       327.000000  \n",
       "50%       437.000000  \n",
       "75%       546.000000  \n",
       "max       878.000000  "
      ]
     },
     "execution_count": 49,
     "metadata": {},
     "output_type": "execute_result"
    }
   ],
   "source": [
    "trips.describe()"
   ]
  },
  {
   "cell_type": "code",
   "execution_count": 50,
   "metadata": {},
   "outputs": [
    {
     "data": {
      "text/plain": [
       "<matplotlib.axes._subplots.AxesSubplot at 0x1c3e3501a90>"
      ]
     },
     "execution_count": 50,
     "metadata": {},
     "output_type": "execute_result"
    },
    {
     "data": {
      "image/png": "[encoded data removed]",
      "text/plain": [
       "<Figure size 432x288 with 1 Axes>"
      ]
     },
     "metadata": {
      "needs_background": "light"
     },
     "output_type": "display_data"
    }
   ],
   "source": [
    "trips['Duration'].plot.hist()"
   ]
  },
  {
   "cell_type": "code",
   "execution_count": 54,
   "metadata": {},
   "outputs": [
    {
     "data": {
      "text/plain": [
       "<matplotlib.axes._subplots.AxesSubplot at 0x1c3de410278>"
      ]
     },
     "execution_count": 54,
     "metadata": {},
     "output_type": "execute_result"
    },
    {
     "data": {
      "image/png": "[encoded data removed]",
      "text/plain": [
       "<Figure size 432x288 with 1 Axes>"
      ]
     },
     "metadata": {
      "needs_background": "light"
     },
     "output_type": "display_data"
    }
   ],
   "source": [
    "trips[trips['Duration'] < 60*60]['Duration'].plot.hist(bins=40)"
   ]
  },
  {
   "cell_type": "code",
   "execution_count": 53,
   "metadata": {},
   "outputs": [
    {
     "data": {
      "text/html": [
       "<div>\n",
       "<style scoped>\n",
       "    .dataframe tbody tr th:only-of-type {\n",
       "        vertical-align: middle;\n",
       "    }\n",
       "\n",
       "    .dataframe tbody tr th {\n",
       "        vertical-align: top;\n",
       "    }\n",
       "\n",
       "    .dataframe thead th {\n",
       "        text-align: right;\n",
       "    }\n",
       "</style>\n",
       "<table border=\"1\" class=\"dataframe\">\n",
       "  <thead>\n",
       "    <tr style=\"text-align: right;\">\n",
       "      <th></th>\n",
       "      <th>Trip ID</th>\n",
       "      <th>Duration</th>\n",
       "      <th>Start Date</th>\n",
       "      <th>Start Station</th>\n",
       "      <th>Start Terminal</th>\n",
       "      <th>End Date</th>\n",
       "      <th>End Station</th>\n",
       "      <th>End Terminal</th>\n",
       "      <th>Bike #</th>\n",
       "      <th>Subscriber Type</th>\n",
       "      <th>Zip Code</th>\n",
       "    </tr>\n",
       "  </thead>\n",
       "  <tbody>\n",
       "    <tr>\n",
       "      <th>0</th>\n",
       "      <td>913460</td>\n",
       "      <td>765</td>\n",
       "      <td>8/31/2015 23:26</td>\n",
       "      <td>Harry Bridges Plaza (Ferry Building)</td>\n",
       "      <td>50</td>\n",
       "      <td>8/31/2015 23:39</td>\n",
       "      <td>San Francisco Caltrain (Townsend at 4th)</td>\n",
       "      <td>70</td>\n",
       "      <td>288</td>\n",
       "      <td>Subscriber</td>\n",
       "      <td>2139</td>\n",
       "    </tr>\n",
       "    <tr>\n",
       "      <th>1</th>\n",
       "      <td>913459</td>\n",
       "      <td>1036</td>\n",
       "      <td>8/31/2015 23:11</td>\n",
       "      <td>San Antonio Shopping Center</td>\n",
       "      <td>31</td>\n",
       "      <td>8/31/2015 23:28</td>\n",
       "      <td>Mountain View City Hall</td>\n",
       "      <td>27</td>\n",
       "      <td>35</td>\n",
       "      <td>Subscriber</td>\n",
       "      <td>95032</td>\n",
       "    </tr>\n",
       "    <tr>\n",
       "      <th>2</th>\n",
       "      <td>913455</td>\n",
       "      <td>307</td>\n",
       "      <td>8/31/2015 23:13</td>\n",
       "      <td>Post at Kearny</td>\n",
       "      <td>47</td>\n",
       "      <td>8/31/2015 23:18</td>\n",
       "      <td>2nd at South Park</td>\n",
       "      <td>64</td>\n",
       "      <td>468</td>\n",
       "      <td>Subscriber</td>\n",
       "      <td>94107</td>\n",
       "    </tr>\n",
       "    <tr>\n",
       "      <th>3</th>\n",
       "      <td>913454</td>\n",
       "      <td>409</td>\n",
       "      <td>8/31/2015 23:10</td>\n",
       "      <td>San Jose City Hall</td>\n",
       "      <td>10</td>\n",
       "      <td>8/31/2015 23:17</td>\n",
       "      <td>San Salvador at 1st</td>\n",
       "      <td>8</td>\n",
       "      <td>68</td>\n",
       "      <td>Subscriber</td>\n",
       "      <td>95113</td>\n",
       "    </tr>\n",
       "    <tr>\n",
       "      <th>4</th>\n",
       "      <td>913453</td>\n",
       "      <td>789</td>\n",
       "      <td>8/31/2015 23:09</td>\n",
       "      <td>Embarcadero at Folsom</td>\n",
       "      <td>51</td>\n",
       "      <td>8/31/2015 23:22</td>\n",
       "      <td>Embarcadero at Sansome</td>\n",
       "      <td>60</td>\n",
       "      <td>487</td>\n",
       "      <td>Customer</td>\n",
       "      <td>9069</td>\n",
       "    </tr>\n",
       "  </tbody>\n",
       "</table>\n",
       "</div>"
      ],
      "text/plain": [
       "   Trip ID  Duration       Start Date                         Start Station  \\\n",
       "0   913460       765  8/31/2015 23:26  Harry Bridges Plaza (Ferry Building)   \n",
       "1   913459      1036  8/31/2015 23:11           San Antonio Shopping Center   \n",
       "2   913455       307  8/31/2015 23:13                        Post at Kearny   \n",
       "3   913454       409  8/31/2015 23:10                    San Jose City Hall   \n",
       "4   913453       789  8/31/2015 23:09                 Embarcadero at Folsom   \n",
       "\n",
       "   Start Terminal         End Date                               End Station  \\\n",
       "0              50  8/31/2015 23:39  San Francisco Caltrain (Townsend at 4th)   \n",
       "1              31  8/31/2015 23:28                   Mountain View City Hall   \n",
       "2              47  8/31/2015 23:18                         2nd at South Park   \n",
       "3              10  8/31/2015 23:17                       San Salvador at 1st   \n",
       "4              51  8/31/2015 23:22                    Embarcadero at Sansome   \n",
       "\n",
       "   End Terminal  Bike # Subscriber Type Zip Code  \n",
       "0            70     288      Subscriber     2139  \n",
       "1            27      35      Subscriber    95032  \n",
       "2            64     468      Subscriber    94107  \n",
       "3             8      68      Subscriber    95113  \n",
       "4            60     487        Customer     9069  "
      ]
     },
     "execution_count": 53,
     "metadata": {},
     "output_type": "execute_result"
    }
   ],
   "source": [
    "trips[trips['Duration'] < 60*60].head()"
   ]
  },
  {
   "cell_type": "code",
   "execution_count": null,
   "metadata": {},
   "outputs": [],
   "source": []
  },
  {
   "cell_type": "code",
   "execution_count": null,
   "metadata": {},
   "outputs": [],
   "source": []
  }
 ],
 "metadata": {
  "kernelspec": {
   "display_name": "Python 3",
   "language": "python",
   "name": "python3"
  },
  "language_info": {
   "codemirror_mode": {
    "name": "ipython",
    "version": 3
   },
   "file_extension": ".py",
   "mimetype": "text/x-python",
   "name": "python",
   "nbconvert_exporter": "python",
   "pygments_lexer": "ipython3",
   "version": "3.6.7"
  }
 },
 "nbformat": 4,
 "nbformat_minor": 4
}
