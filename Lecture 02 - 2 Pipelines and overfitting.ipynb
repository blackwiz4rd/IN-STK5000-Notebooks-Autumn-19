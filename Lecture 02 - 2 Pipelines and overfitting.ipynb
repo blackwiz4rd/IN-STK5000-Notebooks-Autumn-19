{
 "cells": [
  {
   "cell_type": "code",
   "execution_count": 1,
   "metadata": {},
   "outputs": [],
   "source": [
    "import numpy"
   ]
  },
  {
   "cell_type": "code",
   "execution_count": 2,
   "metadata": {},
   "outputs": [],
   "source": [
    "N = 50\n",
    "p = 500"
   ]
  },
  {
   "cell_type": "code",
   "execution_count": 20,
   "metadata": {},
   "outputs": [],
   "source": [
    "X = numpy.random.standard_normal(N * p).reshape((N, p))"
   ]
  },
  {
   "cell_type": "code",
   "execution_count": 8,
   "metadata": {},
   "outputs": [],
   "source": [
    "y = numpy.random.standard_normal(N) <= 0"
   ]
  },
  {
   "cell_type": "code",
   "execution_count": 6,
   "metadata": {},
   "outputs": [],
   "source": [
    "import matplotlib.pyplot as plt\n",
    "%matplotlib inline"
   ]
  },
  {
   "cell_type": "code",
   "execution_count": 10,
   "metadata": {},
   "outputs": [],
   "source": [
    "from sklearn.model_selection import cross_val_score"
   ]
  },
  {
   "cell_type": "code",
   "execution_count": 11,
   "metadata": {},
   "outputs": [],
   "source": [
    "from sklearn.ensemble import RandomForestClassifier"
   ]
  },
  {
   "cell_type": "code",
   "execution_count": 15,
   "metadata": {},
   "outputs": [],
   "source": [
    "from sklearn.feature_selection import SelectKBest\n",
    "from sklearn.feature_selection import mutual_info_classif"
   ]
  },
  {
   "cell_type": "code",
   "execution_count": 25,
   "metadata": {},
   "outputs": [
    {
     "data": {
      "text/plain": [
       "(array([314.,  61.,  52.,  36.,  18.,  10.,   2.,   3.,   0.,   4.]),\n",
       " array([0.        , 0.02558651, 0.05117301, 0.07675952, 0.10234602,\n",
       "        0.12793253, 0.15351904, 0.17910554, 0.20469205, 0.23027855,\n",
       "        0.25586506]),\n",
       " <a list of 10 Patch objects>)"
      ]
     },
     "execution_count": 25,
     "metadata": {},
     "output_type": "execute_result"
    },
    {
     "data": {
      "image/png": "[encoded data removed]",
      "text/plain": [
       "<Figure size 432x288 with 1 Axes>"
      ]
     },
     "metadata": {
      "needs_background": "light"
     },
     "output_type": "display_data"
    }
   ],
   "source": [
    "plt.hist(mutual_info_classif(X, y))"
   ]
  },
  {
   "cell_type": "code",
   "execution_count": 26,
   "metadata": {},
   "outputs": [],
   "source": [
    "# Here we overfit!\n",
    "X_selected = SelectKBest(score_func=mutual_info_classif, k=20).fit_transform(X, y)"
   ]
  },
  {
   "cell_type": "code",
   "execution_count": 24,
   "metadata": {},
   "outputs": [
    {
     "data": {
      "text/plain": [
       "array([0.72727273, 0.90909091, 0.6       , 0.66666667, 0.77777778])"
      ]
     },
     "execution_count": 24,
     "metadata": {},
     "output_type": "execute_result"
    }
   ],
   "source": [
    "cross_val_score(RandomForestClassifier(n_estimators=100), X_selected, y, cv=5)"
   ]
  },
  {
   "cell_type": "markdown",
   "metadata": {},
   "source": [
    "# Pipelines"
   ]
  },
  {
   "cell_type": "code",
   "execution_count": 27,
   "metadata": {},
   "outputs": [],
   "source": [
    "from sklearn.pipeline import Pipeline"
   ]
  },
  {
   "cell_type": "code",
   "execution_count": 28,
   "metadata": {
    "collapsed": true,
    "jupyter": {
     "outputs_hidden": true
    }
   },
   "outputs": [
    {
     "data": {
      "text/plain": [
       "\u001b[0;31mInit signature:\u001b[0m \u001b[0mPipeline\u001b[0m\u001b[0;34m(\u001b[0m\u001b[0msteps\u001b[0m\u001b[0;34m,\u001b[0m \u001b[0mmemory\u001b[0m\u001b[0;34m=\u001b[0m\u001b[0;32mNone\u001b[0m\u001b[0;34m,\u001b[0m \u001b[0mverbose\u001b[0m\u001b[0;34m=\u001b[0m\u001b[0;32mFalse\u001b[0m\u001b[0;34m)\u001b[0m\u001b[0;34m\u001b[0m\u001b[0;34m\u001b[0m\u001b[0m\n",
       "\u001b[0;31mDocstring:\u001b[0m     \n",
       "Pipeline of transforms with a final estimator.\n",
       "\n",
       "Sequentially apply a list of transforms and a final estimator.\n",
       "Intermediate steps of the pipeline must be 'transforms', that is, they\n",
       "must implement fit and transform methods.\n",
       "The final estimator only needs to implement fit.\n",
       "The transformers in the pipeline can be cached using ``memory`` argument.\n",
       "\n",
       "The purpose of the pipeline is to assemble several steps that can be\n",
       "cross-validated together while setting different parameters.\n",
       "For this, it enables setting parameters of the various steps using their\n",
       "names and the parameter name separated by a '__', as in the example below.\n",
       "A step's estimator may be replaced entirely by setting the parameter\n",
       "with its name to another estimator, or a transformer removed by setting\n",
       "it to 'passthrough' or ``None``.\n",
       "\n",
       "Read more in the :ref:`User Guide <pipeline>`.\n",
       "\n",
       "Parameters\n",
       "----------\n",
       "steps : list\n",
       "    List of (name, transform) tuples (implementing fit/transform) that are\n",
       "    chained, in the order in which they are chained, with the last object\n",
       "    an estimator.\n",
       "\n",
       "memory : None, str or object with the joblib.Memory interface, optional\n",
       "    Used to cache the fitted transformers of the pipeline. By default,\n",
       "    no caching is performed. If a string is given, it is the path to\n",
       "    the caching directory. Enabling caching triggers a clone of\n",
       "    the transformers before fitting. Therefore, the transformer\n",
       "    instance given to the pipeline cannot be inspected\n",
       "    directly. Use the attribute ``named_steps`` or ``steps`` to\n",
       "    inspect estimators within the pipeline. Caching the\n",
       "    transformers is advantageous when fitting is time consuming.\n",
       "\n",
       "verbose : boolean, optional\n",
       "    If True, the time elapsed while fitting each step will be printed as it\n",
       "    is completed.\n",
       "\n",
       "Attributes\n",
       "----------\n",
       "named_steps : bunch object, a dictionary with attribute access\n",
       "    Read-only attribute to access any step parameter by user given name.\n",
       "    Keys are step names and values are steps parameters.\n",
       "\n",
       "See also\n",
       "--------\n",
       "sklearn.pipeline.make_pipeline : convenience function for simplified\n",
       "    pipeline construction.\n",
       "\n",
       "Examples\n",
       "--------\n",
       ">>> from sklearn import svm\n",
       ">>> from sklearn.datasets import samples_generator\n",
       ">>> from sklearn.feature_selection import SelectKBest\n",
       ">>> from sklearn.feature_selection import f_regression\n",
       ">>> from sklearn.pipeline import Pipeline\n",
       ">>> # generate some data to play with\n",
       ">>> X, y = samples_generator.make_classification(\n",
       "...     n_informative=5, n_redundant=0, random_state=42)\n",
       ">>> # ANOVA SVM-C\n",
       ">>> anova_filter = SelectKBest(f_regression, k=5)\n",
       ">>> clf = svm.SVC(kernel='linear')\n",
       ">>> anova_svm = Pipeline([('anova', anova_filter), ('svc', clf)])\n",
       ">>> # You can set the parameters using the names issued\n",
       ">>> # For instance, fit using a k of 10 in the SelectKBest\n",
       ">>> # and a parameter 'C' of the svm\n",
       ">>> anova_svm.set_params(anova__k=10, svc__C=.1).fit(X, y)\n",
       "... # doctest: +ELLIPSIS, +NORMALIZE_WHITESPACE\n",
       "Pipeline(memory=None,\n",
       "         steps=[('anova', SelectKBest(...)),\n",
       "                ('svc', SVC(...))], verbose=False)\n",
       ">>> prediction = anova_svm.predict(X)\n",
       ">>> anova_svm.score(X, y)  # doctest: +ELLIPSIS\n",
       "0.83\n",
       ">>> # getting the selected features chosen by anova_filter\n",
       ">>> anova_svm['anova'].get_support()\n",
       "... # doctest: +NORMALIZE_WHITESPACE\n",
       "array([False, False,  True,  True, False, False,  True,  True, False,\n",
       "       True, False,  True,  True, False,  True, False,  True,  True,\n",
       "       False, False])\n",
       ">>> # Another way to get selected features chosen by anova_filter\n",
       ">>> anova_svm.named_steps.anova.get_support()\n",
       "... # doctest: +NORMALIZE_WHITESPACE\n",
       "array([False, False,  True,  True, False, False,  True,  True, False,\n",
       "       True, False,  True,  True, False,  True, False,  True,  True,\n",
       "       False, False])\n",
       ">>> # Indexing can also be used to extract a sub-pipeline.\n",
       ">>> sub_pipeline = anova_svm[:1]\n",
       ">>> sub_pipeline  # doctest: +ELLIPSIS +NORMALIZE_WHITESPACE\n",
       "Pipeline(memory=None, steps=[('anova', ...)], verbose=False)\n",
       ">>> coef = anova_svm[-1].coef_\n",
       ">>> anova_svm['svc'] is anova_svm[-1]\n",
       "True\n",
       ">>> coef.shape\n",
       "(1, 10)\n",
       ">>> sub_pipeline.inverse_transform(coef).shape\n",
       "(1, 20)\n",
       "\u001b[0;31mFile:\u001b[0m           ~/.venv/p3/lib/python3.7/site-packages/sklearn/pipeline.py\n",
       "\u001b[0;31mType:\u001b[0m           ABCMeta\n",
       "\u001b[0;31mSubclasses:\u001b[0m     \n"
      ]
     },
     "metadata": {},
     "output_type": "display_data"
    }
   ],
   "source": [
    "?Pipeline"
   ]
  },
  {
   "cell_type": "code",
   "execution_count": 29,
   "metadata": {},
   "outputs": [],
   "source": [
    "pipeline = Pipeline([('feature_selection', SelectKBest(mutual_info_classif, k=20)),\n",
    "                     ('classifier', RandomForestClassifier(n_estimators=50))])"
   ]
  },
  {
   "cell_type": "code",
   "execution_count": 31,
   "metadata": {},
   "outputs": [],
   "source": [
    "scores = cross_val_score(pipeline, X, y, cv=5)"
   ]
  },
  {
   "cell_type": "code",
   "execution_count": 32,
   "metadata": {},
   "outputs": [
    {
     "data": {
      "text/plain": [
       "0.5141414141414142"
      ]
     },
     "execution_count": 32,
     "metadata": {},
     "output_type": "execute_result"
    }
   ],
   "source": [
    "scores.mean()"
   ]
  },
  {
   "cell_type": "code",
   "execution_count": 34,
   "metadata": {},
   "outputs": [
    {
     "data": {
      "text/plain": [
       "0.10052408326969478"
      ]
     },
     "execution_count": 34,
     "metadata": {},
     "output_type": "execute_result"
    }
   ],
   "source": [
    "scores.std()"
   ]
  },
  {
   "cell_type": "code",
   "execution_count": null,
   "metadata": {},
   "outputs": [],
   "source": []
  }
 ],
 "metadata": {
  "kernelspec": {
   "display_name": "Python 3",
   "language": "python",
   "name": "python3"
  },
  "language_info": {
   "codemirror_mode": {
    "name": "ipython",
    "version": 3
   },
   "file_extension": ".py",
   "mimetype": "text/x-python",
   "name": "python",
   "nbconvert_exporter": "python",
   "pygments_lexer": "ipython3",
   "version": "3.7.4"
  }
 },
 "nbformat": 4,
 "nbformat_minor": 4
}
