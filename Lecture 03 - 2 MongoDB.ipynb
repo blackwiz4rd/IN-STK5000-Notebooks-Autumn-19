{
 "cells": [
  {
   "cell_type": "code",
   "execution_count": 1,
   "metadata": {},
   "outputs": [],
   "source": [
    "import json"
   ]
  },
  {
   "cell_type": "code",
   "execution_count": 2,
   "metadata": {},
   "outputs": [
    {
     "data": {
      "text/plain": [
       "{'foo': 12, 'bar': [1, 2, 3]}"
      ]
     },
     "execution_count": 2,
     "metadata": {},
     "output_type": "execute_result"
    }
   ],
   "source": [
    "json.loads(\"\"\"\n",
    "{\"foo\": 12,\n",
    " \"bar\": [1,2,3]}\n",
    "\"\"\")"
   ]
  },
  {
   "cell_type": "code",
   "execution_count": 3,
   "metadata": {},
   "outputs": [],
   "source": [
    "data = json.loads(\"\"\"\n",
    "{\"foo\": 12,\n",
    " \"bar\": [1,2,3]}\n",
    "\"\"\")"
   ]
  },
  {
   "cell_type": "code",
   "execution_count": 4,
   "metadata": {},
   "outputs": [
    {
     "data": {
      "text/plain": [
       "dict"
      ]
     },
     "execution_count": 4,
     "metadata": {},
     "output_type": "execute_result"
    }
   ],
   "source": [
    "type(data)"
   ]
  },
  {
   "cell_type": "code",
   "execution_count": 6,
   "metadata": {},
   "outputs": [
    {
     "name": "stdout",
     "output_type": "stream",
     "text": [
      "{\n",
      "  \"foo\": 12,\n",
      "  \"bar\": [\n",
      "    1,\n",
      "    2,\n",
      "    3\n",
      "  ]\n",
      "}\n"
     ]
    }
   ],
   "source": [
    "print(json.dumps(data, indent=2))"
   ]
  },
  {
   "cell_type": "code",
   "execution_count": 7,
   "metadata": {},
   "outputs": [],
   "source": [
    "import pandas\n",
    "import io"
   ]
  },
  {
   "cell_type": "code",
   "execution_count": 8,
   "metadata": {},
   "outputs": [],
   "source": [
    "sio = io.StringIO(json.dumps(data, indent=2))"
   ]
  },
  {
   "cell_type": "code",
   "execution_count": 10,
   "metadata": {},
   "outputs": [
    {
     "data": {
      "text/html": [
       "<div>\n",
       "<style scoped>\n",
       "    .dataframe tbody tr th:only-of-type {\n",
       "        vertical-align: middle;\n",
       "    }\n",
       "\n",
       "    .dataframe tbody tr th {\n",
       "        vertical-align: top;\n",
       "    }\n",
       "\n",
       "    .dataframe thead th {\n",
       "        text-align: right;\n",
       "    }\n",
       "</style>\n",
       "<table border=\"1\" class=\"dataframe\">\n",
       "  <thead>\n",
       "    <tr style=\"text-align: right;\">\n",
       "      <th></th>\n",
       "      <th>foo</th>\n",
       "      <th>bar</th>\n",
       "    </tr>\n",
       "  </thead>\n",
       "  <tbody>\n",
       "    <tr>\n",
       "      <td>0</td>\n",
       "      <td>12</td>\n",
       "      <td>1</td>\n",
       "    </tr>\n",
       "    <tr>\n",
       "      <td>1</td>\n",
       "      <td>12</td>\n",
       "      <td>2</td>\n",
       "    </tr>\n",
       "    <tr>\n",
       "      <td>2</td>\n",
       "      <td>12</td>\n",
       "      <td>3</td>\n",
       "    </tr>\n",
       "  </tbody>\n",
       "</table>\n",
       "</div>"
      ],
      "text/plain": [
       "   foo  bar\n",
       "0   12    1\n",
       "1   12    2\n",
       "2   12    3"
      ]
     },
     "execution_count": 10,
     "metadata": {},
     "output_type": "execute_result"
    }
   ],
   "source": [
    "pandas.read_json(sio)"
   ]
  },
  {
   "cell_type": "code",
   "execution_count": 11,
   "metadata": {},
   "outputs": [],
   "source": [
    "from pymongo import MongoClient"
   ]
  },
  {
   "cell_type": "code",
   "execution_count": 12,
   "metadata": {},
   "outputs": [],
   "source": [
    "import datetime"
   ]
  },
  {
   "cell_type": "code",
   "execution_count": 13,
   "metadata": {},
   "outputs": [],
   "source": [
    "c = MongoClient('localhost', 27017)"
   ]
  },
  {
   "cell_type": "code",
   "execution_count": 14,
   "metadata": {},
   "outputs": [
    {
     "data": {
      "text/plain": [
       "MongoClient(host=['localhost:27017'], document_class=dict, tz_aware=False, connect=True)"
      ]
     },
     "execution_count": 14,
     "metadata": {},
     "output_type": "execute_result"
    }
   ],
   "source": [
    "c"
   ]
  },
  {
   "cell_type": "code",
   "execution_count": 15,
   "metadata": {},
   "outputs": [],
   "source": [
    "music = c.stkinf19.music"
   ]
  },
  {
   "cell_type": "code",
   "execution_count": 16,
   "metadata": {},
   "outputs": [
    {
     "data": {
      "text/plain": [
       "Collection(Database(MongoClient(host=['localhost:27017'], document_class=dict, tz_aware=False, connect=True), 'stkinf19'), 'music')"
      ]
     },
     "execution_count": 16,
     "metadata": {},
     "output_type": "execute_result"
    }
   ],
   "source": [
    "music"
   ]
  },
  {
   "cell_type": "code",
   "execution_count": 17,
   "metadata": {},
   "outputs": [],
   "source": [
    "jackson = {\n",
    "    'name': {'first': 'Michael',\n",
    "             'last': 'Jackson',\n",
    "             'middle': 'Joseph'},\n",
    "    'born': datetime.datetime(1958, 8, 29),\n",
    "    'died': datetime.datetime(2009, 6, 25),\n",
    "    'albums': [{'name': \"Thriller\",\n",
    "                'released': 1982},\n",
    "               {'name': 'Bad',\n",
    "                'released': 1987}]\n",
    "}"
   ]
  },
  {
   "cell_type": "code",
   "execution_count": 18,
   "metadata": {},
   "outputs": [],
   "source": [
    "result = music.insert_one(jackson)"
   ]
  },
  {
   "cell_type": "code",
   "execution_count": 20,
   "metadata": {},
   "outputs": [
    {
     "data": {
      "text/plain": [
       "True"
      ]
     },
     "execution_count": 20,
     "metadata": {},
     "output_type": "execute_result"
    }
   ],
   "source": [
    "result.acknowledged"
   ]
  },
  {
   "cell_type": "code",
   "execution_count": 21,
   "metadata": {},
   "outputs": [
    {
     "data": {
      "text/plain": [
       "<pymongo.cursor.Cursor at 0x11a9f9110>"
      ]
     },
     "execution_count": 21,
     "metadata": {},
     "output_type": "execute_result"
    }
   ],
   "source": [
    "music.find()"
   ]
  },
  {
   "cell_type": "code",
   "execution_count": 22,
   "metadata": {},
   "outputs": [
    {
     "name": "stdout",
     "output_type": "stream",
     "text": [
      "{'_id': ObjectId('5d8c68e2716bb92f1809c4d6'), 'name': {'first': 'Michael', 'last': 'Jackson', 'middle': 'Joseph'}, 'born': datetime.datetime(1958, 8, 29, 0, 0), 'died': datetime.datetime(2009, 6, 25, 0, 0), 'albums': [{'name': 'Thriller', 'released': 1982}, {'name': 'Bad', 'released': 1987}]}\n"
     ]
    }
   ],
   "source": [
    "for item in music.find():\n",
    "    print(item)"
   ]
  },
  {
   "cell_type": "code",
   "execution_count": 23,
   "metadata": {},
   "outputs": [
    {
     "name": "stdout",
     "output_type": "stream",
     "text": [
      "{'_id': ObjectId('5d8c68e2716bb92f1809c4d6'), 'name': {'first': 'Michael', 'last': 'Jackson', 'middle': 'Joseph'}, 'born': datetime.datetime(1958, 8, 29, 0, 0), 'died': datetime.datetime(2009, 6, 25, 0, 0), 'albums': [{'name': 'Thriller', 'released': 1982}, {'name': 'Bad', 'released': 1987}]}\n"
     ]
    }
   ],
   "source": [
    "for item in music.find().limit(10):\n",
    "    print(item)"
   ]
  },
  {
   "cell_type": "code",
   "execution_count": 24,
   "metadata": {},
   "outputs": [
    {
     "data": {
      "text/plain": [
       "ObjectId('5d8c68e2716bb92f1809c4d6')"
      ]
     },
     "execution_count": 24,
     "metadata": {},
     "output_type": "execute_result"
    }
   ],
   "source": [
    "result.inserted_id"
   ]
  },
  {
   "cell_type": "code",
   "execution_count": 25,
   "metadata": {},
   "outputs": [
    {
     "data": {
      "text/plain": [
       "{'_id': ObjectId('5d8c68e2716bb92f1809c4d6'),\n",
       " 'name': {'first': 'Michael', 'last': 'Jackson', 'middle': 'Joseph'},\n",
       " 'born': datetime.datetime(1958, 8, 29, 0, 0),\n",
       " 'died': datetime.datetime(2009, 6, 25, 0, 0),\n",
       " 'albums': [{'name': 'Thriller', 'released': 1982},\n",
       "  {'name': 'Bad', 'released': 1987}]}"
      ]
     },
     "execution_count": 25,
     "metadata": {},
     "output_type": "execute_result"
    }
   ],
   "source": [
    "music.find_one(result.inserted_id)"
   ]
  },
  {
   "cell_type": "code",
   "execution_count": 27,
   "metadata": {},
   "outputs": [
    {
     "data": {
      "text/plain": [
       "{'_id': ObjectId('5d8c68e2716bb92f1809c4d6'),\n",
       " 'name': {'first': 'Michael', 'last': 'Jackson', 'middle': 'Joseph'},\n",
       " 'born': datetime.datetime(1958, 8, 29, 0, 0),\n",
       " 'died': datetime.datetime(2009, 6, 25, 0, 0),\n",
       " 'albums': [{'name': 'Thriller', 'released': 1982},\n",
       "  {'name': 'Bad', 'released': 1987}]}"
      ]
     },
     "execution_count": 27,
     "metadata": {},
     "output_type": "execute_result"
    }
   ],
   "source": [
    "music.find_one({'born': datetime.datetime(1958, 8, 29)})"
   ]
  },
  {
   "cell_type": "code",
   "execution_count": 28,
   "metadata": {},
   "outputs": [
    {
     "data": {
      "text/plain": [
       "{'_id': ObjectId('5d8c68e2716bb92f1809c4d6'),\n",
       " 'name': {'first': 'Michael', 'last': 'Jackson', 'middle': 'Joseph'},\n",
       " 'born': datetime.datetime(1958, 8, 29, 0, 0),\n",
       " 'died': datetime.datetime(2009, 6, 25, 0, 0),\n",
       " 'albums': [{'name': 'Thriller', 'released': 1982},\n",
       "  {'name': 'Bad', 'released': 1987}]}"
      ]
     },
     "execution_count": 28,
     "metadata": {},
     "output_type": "execute_result"
    }
   ],
   "source": [
    "music.find_one({'albums.released': {'$gt': 1980}})"
   ]
  },
  {
   "cell_type": "code",
   "execution_count": 31,
   "metadata": {},
   "outputs": [
    {
     "data": {
      "text/plain": [
       "{'_id': ObjectId('5d8c68e2716bb92f1809c4d6'),\n",
       " 'name': {'first': 'Michael', 'last': 'Jackson', 'middle': 'Joseph'},\n",
       " 'born': datetime.datetime(1958, 8, 29, 0, 0),\n",
       " 'died': datetime.datetime(2009, 6, 25, 0, 0),\n",
       " 'albums': [{'name': 'Thriller', 'released': 1982},\n",
       "  {'name': 'Bad', 'released': 1987}]}"
      ]
     },
     "execution_count": 31,
     "metadata": {},
     "output_type": "execute_result"
    }
   ],
   "source": [
    "music.find_one({'name.last': 'Jackson'})"
   ]
  },
  {
   "cell_type": "code",
   "execution_count": 32,
   "metadata": {},
   "outputs": [],
   "source": [
    "bowie = {\n",
    "    'name': {'first': 'David',\n",
    "             'last': 'Bowie',\n",
    "             'middle': 'Robert'},\n",
    "    'born': datetime.datetime(1049, 8, 29)\n",
    "}"
   ]
  },
  {
   "cell_type": "code",
   "execution_count": 33,
   "metadata": {},
   "outputs": [
    {
     "data": {
      "text/plain": [
       "<pymongo.results.InsertOneResult at 0x11aa86d20>"
      ]
     },
     "execution_count": 33,
     "metadata": {},
     "output_type": "execute_result"
    }
   ],
   "source": [
    "music.insert_one(bowie)"
   ]
  },
  {
   "cell_type": "code",
   "execution_count": 34,
   "metadata": {},
   "outputs": [
    {
     "name": "stdout",
     "output_type": "stream",
     "text": [
      "{'_id': ObjectId('5d8c68e2716bb92f1809c4d6'), 'name': {'first': 'Michael', 'last': 'Jackson', 'middle': 'Joseph'}, 'born': datetime.datetime(1958, 8, 29, 0, 0), 'died': datetime.datetime(2009, 6, 25, 0, 0), 'albums': [{'name': 'Thriller', 'released': 1982}, {'name': 'Bad', 'released': 1987}]}\n",
      "{'_id': ObjectId('5d8c6a61716bb92f1809c4d7'), 'name': {'first': 'David', 'last': 'Bowie', 'middle': 'Robert'}, 'born': datetime.datetime(1049, 8, 29, 0, 0)}\n"
     ]
    }
   ],
   "source": [
    "for item in music.find().limit(10):\n",
    "    print(item)"
   ]
  },
  {
   "cell_type": "code",
   "execution_count": 35,
   "metadata": {},
   "outputs": [
    {
     "data": {
      "text/plain": [
       "<pymongo.results.UpdateResult at 0x11aa86410>"
      ]
     },
     "execution_count": 35,
     "metadata": {},
     "output_type": "execute_result"
    }
   ],
   "source": [
    "music.update_one({'name.last': 'Bowie'},\n",
    "                 {'$set': {'albums': []}})"
   ]
  },
  {
   "cell_type": "code",
   "execution_count": 36,
   "metadata": {},
   "outputs": [
    {
     "data": {
      "text/plain": [
       "{'_id': ObjectId('5d8c6a61716bb92f1809c4d7'),\n",
       " 'name': {'first': 'David', 'last': 'Bowie', 'middle': 'Robert'},\n",
       " 'born': datetime.datetime(1049, 8, 29, 0, 0),\n",
       " 'albums': []}"
      ]
     },
     "execution_count": 36,
     "metadata": {},
     "output_type": "execute_result"
    }
   ],
   "source": [
    "music.find_one({'name.last': 'Bowie'})"
   ]
  },
  {
   "cell_type": "code",
   "execution_count": 37,
   "metadata": {},
   "outputs": [
    {
     "data": {
      "text/plain": [
       "<pymongo.results.UpdateResult at 0x11ab69d20>"
      ]
     },
     "execution_count": 37,
     "metadata": {},
     "output_type": "execute_result"
    }
   ],
   "source": [
    "music.update_one({'name.last': 'Bowie'},\n",
    "                 {'$push': {'albums': {'name': \"Let's Dance\", 'released': 1983}}})"
   ]
  },
  {
   "cell_type": "code",
   "execution_count": 38,
   "metadata": {},
   "outputs": [
    {
     "data": {
      "text/plain": [
       "{'_id': ObjectId('5d8c6a61716bb92f1809c4d7'),\n",
       " 'name': {'first': 'David', 'last': 'Bowie', 'middle': 'Robert'},\n",
       " 'born': datetime.datetime(1049, 8, 29, 0, 0),\n",
       " 'albums': [{'name': \"Let's Dance\", 'released': 1983}]}"
      ]
     },
     "execution_count": 38,
     "metadata": {},
     "output_type": "execute_result"
    }
   ],
   "source": [
    "music.find_one({'name.last': 'Bowie'})"
   ]
  },
  {
   "cell_type": "code",
   "execution_count": null,
   "metadata": {},
   "outputs": [],
   "source": []
  }
 ],
 "metadata": {
  "kernelspec": {
   "display_name": "Python 3",
   "language": "python",
   "name": "python3"
  },
  "language_info": {
   "codemirror_mode": {
    "name": "ipython",
    "version": 3
   },
   "file_extension": ".py",
   "mimetype": "text/x-python",
   "name": "python",
   "nbconvert_exporter": "python",
   "pygments_lexer": "ipython3",
   "version": "3.7.4"
  }
 },
 "nbformat": 4,
 "nbformat_minor": 4
}
